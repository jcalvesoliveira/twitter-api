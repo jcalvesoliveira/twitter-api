{
 "cells": [
  {
   "cell_type": "markdown",
   "metadata": {},
   "source": [
    "# Configurando conta de desenvolvedor"
   ]
  },
  {
   "cell_type": "markdown",
   "metadata": {},
   "source": [
    "Para conseguir conectar na sua conta do twitter, será necessário configurar uma conta de desenvolvedor do twitter e criar um app.\n",
    "\n",
    "1. Para criar um app do Twitter acesse https://apps.twitter.com e clique em \"Create an app\"."
   ]
  },
  {
   "cell_type": "markdown",
   "metadata": {},
   "source": [
    "![alt text](https://github.com/jcalvesoliveira/twitter-api/blob/master/prints/Screenshot_3.png?raw=true)"
   ]
  },
  {
   "cell_type": "markdown",
   "metadata": {},
   "source": [
    "2. Caso você não tenha acesso de desenvolvedor, deverá solicitar. Para isso basta seguir as instruções"
   ]
  },
  {
   "cell_type": "markdown",
   "metadata": {},
   "source": [
    "![alt text](https://github.com/jcalvesoliveira/twitter-api/blob/master/prints/Screenshot_1.png?raw=true)"
   ]
  },
  {
   "cell_type": "markdown",
   "metadata": {},
   "source": [
    "3. Especifique o tipo de acesso solicitado e o nome da conta."
   ]
  },
  {
   "cell_type": "markdown",
   "metadata": {},
   "source": [
    "![alt text](https://github.com/jcalvesoliveira/twitter-api/blob/master/prints/Screenshot_2.png?raw=true)"
   ]
  },
  {
   "cell_type": "markdown",
   "metadata": {},
   "source": [
    "4. Vá ao email cadastrado e confirme a solicitação."
   ]
  },
  {
   "cell_type": "markdown",
   "metadata": {},
   "source": [
    "![alt text](https://github.com/jcalvesoliveira/twitter-api/blob/master/prints/Screenshot_4.png?raw=true)"
   ]
  },
  {
   "cell_type": "markdown",
   "metadata": {},
   "source": [
    "5. Retorne para https://apps.twitter.com e crie um app. Será necessário dar um nome e colocar um site, pode ser a sua própria página do Twitter ou Github.\n",
    "6. Importante adicionar no campo callback URL: http://127.0.0.1:1410"
   ]
  },
  {
   "cell_type": "markdown",
   "metadata": {},
   "source": [
    "![alt text](https://github.com/jcalvesoliveira/twitter-api/blob/master/prints/Screenshot_6.png?raw=true)"
   ]
  },
  {
   "cell_type": "markdown",
   "metadata": {},
   "source": [
    "![alt text](https://github.com/jcalvesoliveira/twitter-api/blob/master/prints/Screenshot_7.png?raw=true)"
   ]
  },
  {
   "cell_type": "markdown",
   "metadata": {},
   "source": [
    "7. Seu app está criado, agora precisamos gerar os tokens de acesso."
   ]
  },
  {
   "cell_type": "markdown",
   "metadata": {},
   "source": [
    "![alt text](https://github.com/jcalvesoliveira/twitter-api/blob/master/prints/Screenshot_8.png?raw=true)"
   ]
  },
  {
   "cell_type": "markdown",
   "metadata": {},
   "source": [
    "8. Vá em \"Keys and tokens\" e crie novos tokens."
   ]
  },
  {
   "cell_type": "markdown",
   "metadata": {},
   "source": [
    "![alt text](https://github.com/jcalvesoliveira/twitter-api/blob/master/prints/Screenshot_10.png?raw=true)"
   ]
  },
  {
   "cell_type": "markdown",
   "metadata": {},
   "source": [
    "Caso precise segue algumas explicações para os usos dessa aula."
   ]
  },
  {
   "cell_type": "markdown",
   "metadata": {},
   "source": [
    "1. I am using Twitter APIs to test my skills of connecting a Python application to the API, .\n",
    "2.  I plan to analyze tweets to learn natural language processing, sentimental analyses and working with text on Python.\n",
    "3.  Testing posts from a Python application.\n",
    "4.  Tweets will be displayed only in my account."
   ]
  }
 ],
 "metadata": {
  "kernelspec": {
   "display_name": "Python 3",
   "language": "python",
   "name": "python3"
  },
  "language_info": {
   "codemirror_mode": {
    "name": "ipython",
    "version": 3
   },
   "file_extension": ".py",
   "mimetype": "text/x-python",
   "name": "python",
   "nbconvert_exporter": "python",
   "pygments_lexer": "ipython3",
   "version": "3.7.1"
  }
 },
 "nbformat": 4,
 "nbformat_minor": 2
}
